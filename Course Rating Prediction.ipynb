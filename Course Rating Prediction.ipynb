{
 "cells": [
  {
   "cell_type": "code",
   "execution_count": 1,
   "id": "67ba9914",
   "metadata": {},
   "outputs": [],
   "source": [
    "import pandas as pd\n",
    "from numpy import *\n",
    "import matplotlib.pyplot as plt\n",
    "%matplotlib inline"
   ]
  },
  {
   "cell_type": "code",
   "execution_count": 2,
   "id": "74a1c7ab",
   "metadata": {},
   "outputs": [
    {
     "data": {
      "text/html": [
       "<div>\n",
       "<style scoped>\n",
       "    .dataframe tbody tr th:only-of-type {\n",
       "        vertical-align: middle;\n",
       "    }\n",
       "\n",
       "    .dataframe tbody tr th {\n",
       "        vertical-align: top;\n",
       "    }\n",
       "\n",
       "    .dataframe thead th {\n",
       "        text-align: right;\n",
       "    }\n",
       "</style>\n",
       "<table border=\"1\" class=\"dataframe\">\n",
       "  <thead>\n",
       "    <tr style=\"text-align: right;\">\n",
       "      <th></th>\n",
       "      <th>EmployeeID</th>\n",
       "      <th>EmpName</th>\n",
       "      <th>CourseID</th>\n",
       "      <th>CourseName</th>\n",
       "      <th>Rating</th>\n",
       "    </tr>\n",
       "  </thead>\n",
       "  <tbody>\n",
       "    <tr>\n",
       "      <th>0</th>\n",
       "      <td>1408</td>\n",
       "      <td>Ignace Ormonde</td>\n",
       "      <td>14</td>\n",
       "      <td>Video Production</td>\n",
       "      <td>3</td>\n",
       "    </tr>\n",
       "    <tr>\n",
       "      <th>1</th>\n",
       "      <td>1249</td>\n",
       "      <td>Gabriela Balcon</td>\n",
       "      <td>17</td>\n",
       "      <td>Translation</td>\n",
       "      <td>2</td>\n",
       "    </tr>\n",
       "    <tr>\n",
       "      <th>2</th>\n",
       "      <td>1158</td>\n",
       "      <td>Enrique Lewer</td>\n",
       "      <td>8</td>\n",
       "      <td>IT Architecture</td>\n",
       "      <td>3</td>\n",
       "    </tr>\n",
       "    <tr>\n",
       "      <th>3</th>\n",
       "      <td>1564</td>\n",
       "      <td>Wallie Byrd</td>\n",
       "      <td>18</td>\n",
       "      <td>Natural Language Processing</td>\n",
       "      <td>3</td>\n",
       "    </tr>\n",
       "    <tr>\n",
       "      <th>4</th>\n",
       "      <td>1334</td>\n",
       "      <td>Hannah Ganter</td>\n",
       "      <td>6</td>\n",
       "      <td>Java Programming</td>\n",
       "      <td>4</td>\n",
       "    </tr>\n",
       "  </tbody>\n",
       "</table>\n",
       "</div>"
      ],
      "text/plain": [
       "   EmployeeID          EmpName  CourseID                   CourseName  Rating\n",
       "0        1408   Ignace Ormonde        14             Video Production       3\n",
       "1        1249  Gabriela Balcon        17                  Translation       2\n",
       "2        1158    Enrique Lewer         8              IT Architecture       3\n",
       "3        1564      Wallie Byrd        18  Natural Language Processing       3\n",
       "4        1334    Hannah Ganter         6             Java Programming       4"
      ]
     },
     "execution_count": 2,
     "metadata": {},
     "output_type": "execute_result"
    }
   ],
   "source": [
    "df = pd.read_csv('employee_course_ratings.csv')\n",
    "df.head()"
   ]
  },
  {
   "cell_type": "code",
   "execution_count": 3,
   "id": "19ceb94b",
   "metadata": {},
   "outputs": [
    {
     "name": "stderr",
     "output_type": "stream",
     "text": [
      "<ipython-input-3-142a0798ee52>:1: FutureWarning: In a future version of pandas all arguments of DataFrame.drop except for the argument 'labels' will be keyword-only\n",
      "  X = df.drop(['EmployeeID','EmpName','CourseName'],1)\n"
     ]
    }
   ],
   "source": [
    "X = df.drop(['EmployeeID','EmpName','CourseName'],1)\n",
    "y = df['CourseName']"
   ]
  },
  {
   "cell_type": "code",
   "execution_count": 4,
   "id": "760286d5",
   "metadata": {},
   "outputs": [],
   "source": [
    "from sklearn.model_selection import train_test_split\n",
    "X_train, X_test, y_train, y_test = train_test_split(X,y)"
   ]
  },
  {
   "cell_type": "code",
   "execution_count": 5,
   "id": "33e9e649",
   "metadata": {},
   "outputs": [
    {
     "data": {
      "text/html": [
       "<div>\n",
       "<style scoped>\n",
       "    .dataframe tbody tr th:only-of-type {\n",
       "        vertical-align: middle;\n",
       "    }\n",
       "\n",
       "    .dataframe tbody tr th {\n",
       "        vertical-align: top;\n",
       "    }\n",
       "\n",
       "    .dataframe thead th {\n",
       "        text-align: right;\n",
       "    }\n",
       "</style>\n",
       "<table border=\"1\" class=\"dataframe\">\n",
       "  <thead>\n",
       "    <tr style=\"text-align: right;\">\n",
       "      <th></th>\n",
       "      <th>CourseID</th>\n",
       "      <th>Rating</th>\n",
       "    </tr>\n",
       "  </thead>\n",
       "  <tbody>\n",
       "    <tr>\n",
       "      <th>172</th>\n",
       "      <td>18</td>\n",
       "      <td>2</td>\n",
       "    </tr>\n",
       "    <tr>\n",
       "      <th>794</th>\n",
       "      <td>25</td>\n",
       "      <td>1</td>\n",
       "    </tr>\n",
       "    <tr>\n",
       "      <th>178</th>\n",
       "      <td>18</td>\n",
       "      <td>2</td>\n",
       "    </tr>\n",
       "    <tr>\n",
       "      <th>789</th>\n",
       "      <td>3</td>\n",
       "      <td>2</td>\n",
       "    </tr>\n",
       "    <tr>\n",
       "      <th>696</th>\n",
       "      <td>16</td>\n",
       "      <td>4</td>\n",
       "    </tr>\n",
       "    <tr>\n",
       "      <th>...</th>\n",
       "      <td>...</td>\n",
       "      <td>...</td>\n",
       "    </tr>\n",
       "    <tr>\n",
       "      <th>134</th>\n",
       "      <td>18</td>\n",
       "      <td>2</td>\n",
       "    </tr>\n",
       "    <tr>\n",
       "      <th>326</th>\n",
       "      <td>24</td>\n",
       "      <td>3</td>\n",
       "    </tr>\n",
       "    <tr>\n",
       "      <th>850</th>\n",
       "      <td>21</td>\n",
       "      <td>3</td>\n",
       "    </tr>\n",
       "    <tr>\n",
       "      <th>981</th>\n",
       "      <td>22</td>\n",
       "      <td>4</td>\n",
       "    </tr>\n",
       "    <tr>\n",
       "      <th>670</th>\n",
       "      <td>1</td>\n",
       "      <td>1</td>\n",
       "    </tr>\n",
       "  </tbody>\n",
       "</table>\n",
       "<p>750 rows × 2 columns</p>\n",
       "</div>"
      ],
      "text/plain": [
       "     CourseID  Rating\n",
       "172        18       2\n",
       "794        25       1\n",
       "178        18       2\n",
       "789         3       2\n",
       "696        16       4\n",
       "..        ...     ...\n",
       "134        18       2\n",
       "326        24       3\n",
       "850        21       3\n",
       "981        22       4\n",
       "670         1       1\n",
       "\n",
       "[750 rows x 2 columns]"
      ]
     },
     "execution_count": 5,
     "metadata": {},
     "output_type": "execute_result"
    }
   ],
   "source": [
    "X_train"
   ]
  },
  {
   "cell_type": "code",
   "execution_count": 6,
   "id": "01de4467",
   "metadata": {},
   "outputs": [],
   "source": [
    "from sklearn.preprocessing import LabelEncoder"
   ]
  },
  {
   "cell_type": "code",
   "execution_count": 7,
   "id": "7472b955",
   "metadata": {},
   "outputs": [],
   "source": [
    "normal = LabelEncoder()"
   ]
  },
  {
   "cell_type": "code",
   "execution_count": 8,
   "id": "f1ab8b8c",
   "metadata": {},
   "outputs": [],
   "source": [
    "y_train = normal.fit_transform(y_train)"
   ]
  },
  {
   "cell_type": "code",
   "execution_count": 9,
   "id": "0b551ba2",
   "metadata": {},
   "outputs": [
    {
     "data": {
      "text/plain": [
       "array([16,  8, 16,  7,  2, 16, 18,  1, 12,  5,  0, 19, 17,  4, 11,  1, 17,\n",
       "       16,  3, 12, 22, 16, 13, 23, 15,  0, 22,  2,  5, 16, 11,  4,  1,  4,\n",
       "        9, 14, 20, 18,  3,  8, 21, 21,  1, 21, 16,  7, 12,  5, 12,  0, 18,\n",
       "       16,  2, 13,  7, 22, 13, 21,  9,  8,  2, 14,  9, 24, 16, 18, 20,  1,\n",
       "        3, 15, 12,  9, 19,  0, 14, 22, 19, 23,  2, 10,  3, 24, 17,  5,  1,\n",
       "       10,  4, 15, 10, 16, 18,  2, 13,  9, 19, 24,  3, 14,  9, 17,  3, 20,\n",
       "       10,  4,  0, 11, 16,  8,  1, 12, 14,  7, 11, 17,  8, 22,  9, 10, 24,\n",
       "        1,  3,  5,  3,  2, 17, 24,  4,  5, 13,  1, 10,  2, 20, 19, 10, 23,\n",
       "        4, 20,  8,  5,  0,  1,  7, 19, 15, 21,  7,  3, 21, 17,  3,  4, 18,\n",
       "       19,  9, 18, 23,  1, 19,  0,  3, 18,  4,  0, 14,  1, 12, 17,  9,  3,\n",
       "        6, 20, 13, 10, 11, 23,  6, 21, 10,  9, 11, 21,  1,  3,  5,  8,  9,\n",
       "       14, 16, 10, 24,  1, 10,  8,  2,  3, 11, 13, 13,  0, 19, 24, 12,  9,\n",
       "       21, 19,  0,  7,  5, 14,  6, 12,  8,  8, 24, 23,  2,  3,  1, 13,  7,\n",
       "        2, 21, 24, 24,  3, 11, 12, 13,  4,  5, 21, 20,  2,  1, 24, 24, 19,\n",
       "        1,  5, 10, 20,  5, 13, 17,  7, 23,  8,  0,  0,  1,  4, 18, 21, 17,\n",
       "       11,  8,  2,  2, 15, 18, 16,  8, 12, 24,  9,  9, 14,  8, 14, 12, 21,\n",
       "       14,  7,  7, 11, 13,  1, 24, 16, 16, 16,  5, 13, 21,  2,  0, 10, 22,\n",
       "        9,  9, 22,  7, 19,  3, 17,  2,  6,  1, 20, 21, 20, 17, 14,  2, 16,\n",
       "       18, 10,  7, 10, 13,  4,  8,  0,  4, 16, 24,  5, 14, 18, 24, 12, 17,\n",
       "        6,  2,  7,  3,  1,  9, 18, 24, 24, 22,  1,  6,  6,  0, 11, 13,  0,\n",
       "        7, 19, 18, 14, 20,  3, 14,  6, 16, 16, 18,  9, 12, 13, 14, 23, 15,\n",
       "        1,  3, 15, 11,  5, 22, 16,  7, 17, 19,  9,  1, 15, 18, 15, 24,  9,\n",
       "       17,  4, 20,  3, 22, 19,  7,  3, 20, 17,  7, 12, 16, 10, 10, 20, 19,\n",
       "       20, 13,  9, 19, 16, 14,  5,  6, 10,  2,  0, 12,  6,  7,  6, 12, 13,\n",
       "       10,  2, 10,  0, 11, 24,  1, 16,  5, 15, 10, 19, 11,  8, 17,  9, 14,\n",
       "        9, 20, 15, 10, 21, 13,  6,  8, 10, 19, 17, 14, 15,  3,  3,  0,  9,\n",
       "       19, 21,  5, 21,  7, 23,  5, 12,  8, 20, 15, 19, 21, 17, 17, 14,  9,\n",
       "       19, 19,  8, 23, 22,  3, 12, 17,  8,  9, 20, 21, 22,  1, 24, 23, 12,\n",
       "       17,  1, 18, 14,  2,  5, 16, 22, 24, 22, 21,  0, 18,  2,  7, 12, 18,\n",
       "       13, 20,  0,  2, 18, 10, 23, 22,  5,  0, 10,  1,  0, 19, 17, 16, 22,\n",
       "        6, 10, 20, 21, 10,  7, 14,  6,  8, 22, 12, 16, 15,  7, 15, 19, 17,\n",
       "       16, 15, 18,  9,  2, 12,  5,  1,  3, 22, 14, 24, 10,  6, 24, 17,  1,\n",
       "       16, 21, 15,  2, 19, 15,  6, 23,  2, 12, 24,  6, 18,  8, 22,  6, 24,\n",
       "        2,  0, 21, 12,  4, 16, 19, 22,  0,  4, 21,  7,  7,  7,  3,  3, 24,\n",
       "        0,  3,  5,  3,  0,  6,  7,  6,  6, 17,  5, 21, 16, 17,  4, 12, 17,\n",
       "       14,  6,  5, 17, 12, 10, 15,  0,  0,  4, 15, 24,  2,  2, 23, 16, 11,\n",
       "       24,  2, 14, 22, 10,  7, 11,  0, 16,  1, 13, 11,  2,  9, 20,  9,  8,\n",
       "       22, 17,  4, 16,  3, 24, 23,  5, 12, 23,  0, 20, 15,  9,  1,  0,  1,\n",
       "        9,  7, 10, 19, 17, 18,  5, 20, 22,  8, 14, 15,  7, 20, 24, 11, 17,\n",
       "        6, 16,  6,  5, 19,  3,  5, 13, 12, 17, 11, 13,  1,  1, 16,  7, 14,\n",
       "        8,  7, 15, 23,  9, 14, 10,  7, 16,  2,  2,  9,  9,  8, 14, 16, 16,\n",
       "       13,  0, 10, 17, 20,  6,  6, 24,  4,  8, 23, 14, 14, 16,  6,  3, 17,\n",
       "       19, 22,  7,  5, 18,  4,  8, 22,  8,  6, 13, 14, 10, 18, 11,  2,  6,\n",
       "       12, 19, 12,  6, 18,  7,  0, 21, 15, 18, 16,  3, 17, 19, 16, 13, 21,\n",
       "        1,  6])"
      ]
     },
     "execution_count": 9,
     "metadata": {},
     "output_type": "execute_result"
    }
   ],
   "source": [
    "y_train"
   ]
  },
  {
   "cell_type": "code",
   "execution_count": 10,
   "id": "3dc774f9",
   "metadata": {},
   "outputs": [],
   "source": [
    "y_test = normal.fit_transform(y_test)"
   ]
  },
  {
   "cell_type": "code",
   "execution_count": 11,
   "id": "36f3084d",
   "metadata": {},
   "outputs": [
    {
     "data": {
      "text/plain": [
       "array([ 8, 21,  7, 13,  0, 23,  5, 13,  6, 24, 11,  5,  2, 24,  0, 12, 13,\n",
       "       10, 13,  8, 15,  7,  6,  1, 19,  4, 11, 16,  8,  8, 24,  1, 12, 19,\n",
       "        0, 17, 11, 21, 10,  0, 16,  9,  3,  2,  0, 12, 17, 24,  8, 17, 14,\n",
       "        6, 14,  1,  7, 23,  6, 22, 22, 12,  6, 23, 21, 24, 13,  7, 12, 10,\n",
       "       24, 17, 11,  6,  7, 24,  3, 11, 23, 13, 10,  1, 22,  8, 14,  1, 15,\n",
       "       20, 18,  6, 17,  7,  8, 23,  5, 24,  3, 16, 11, 17,  1, 17, 15, 10,\n",
       "       21,  4, 21, 23,  8,  4,  5, 11,  3,  5,  5, 11,  6,  7, 15, 11,  8,\n",
       "        4,  5,  9,  2,  2, 19,  5, 11, 18, 16, 17, 20,  5, 22, 20,  8, 10,\n",
       "       19, 21,  1,  4, 20, 17, 19,  6, 12, 23, 15, 10,  2,  5, 23,  8, 18,\n",
       "       11,  5, 17,  3,  8, 10, 16, 10,  0,  2, 20, 20, 10, 11, 16,  9,  3,\n",
       "        6, 22, 12, 23,  1,  9,  9, 12,  8, 23,  5, 24, 22,  4, 22,  3, 15,\n",
       "       13,  7, 19, 23,  1,  5,  5, 16,  2,  3, 23, 23, 14, 19,  1,  8,  3,\n",
       "       13, 18,  3,  1,  9,  0, 13,  7, 23,  8,  0,  5, 24, 10,  6, 23, 23,\n",
       "       23, 21,  3,  2,  7, 13, 13,  0, 22,  0,  6, 21, 20, 12, 24, 13, 24,\n",
       "       16, 13, 23, 18,  7, 10, 20, 17, 19, 12,  2, 12])"
      ]
     },
     "execution_count": 11,
     "metadata": {},
     "output_type": "execute_result"
    }
   ],
   "source": [
    "y_test"
   ]
  },
  {
   "cell_type": "code",
   "execution_count": 12,
   "id": "4e147f23",
   "metadata": {},
   "outputs": [],
   "source": [
    "from sklearn.ensemble import GradientBoostingRegressor"
   ]
  },
  {
   "cell_type": "code",
   "execution_count": 13,
   "id": "3859ec6b",
   "metadata": {},
   "outputs": [],
   "source": [
    "model = GradientBoostingRegressor()"
   ]
  },
  {
   "cell_type": "code",
   "execution_count": 14,
   "id": "a85fce65",
   "metadata": {},
   "outputs": [
    {
     "data": {
      "text/plain": [
       "GradientBoostingRegressor()"
      ]
     },
     "execution_count": 14,
     "metadata": {},
     "output_type": "execute_result"
    }
   ],
   "source": [
    "model.fit(X_train,y_train)"
   ]
  },
  {
   "cell_type": "code",
   "execution_count": 15,
   "id": "6e5d99cf",
   "metadata": {},
   "outputs": [
    {
     "data": {
      "text/plain": [
       "0.9958233136930394"
      ]
     },
     "execution_count": 15,
     "metadata": {},
     "output_type": "execute_result"
    }
   ],
   "source": [
    "model.score(X_test,y_test)"
   ]
  },
  {
   "cell_type": "code",
   "execution_count": 21,
   "id": "181b03c3",
   "metadata": {},
   "outputs": [],
   "source": [
    "y_pred = around(model.predict(X_test))"
   ]
  },
  {
   "cell_type": "code",
   "execution_count": 25,
   "id": "f40cca54",
   "metadata": {},
   "outputs": [],
   "source": [
    "y_pred = y_pred.astype('int')"
   ]
  },
  {
   "cell_type": "code",
   "execution_count": 26,
   "id": "739fd1e7",
   "metadata": {},
   "outputs": [
    {
     "data": {
      "text/plain": [
       "array([ 8, 21,  7, 13,  0, 23,  5, 13,  6, 24, 11,  5,  2, 24,  0, 12, 13,\n",
       "       10, 13,  8, 15,  7,  6,  1, 19,  4, 11, 16,  8,  8, 24,  1, 12, 19,\n",
       "        0, 17, 11, 21, 10,  0, 16,  9,  3,  2,  0, 12, 17, 24,  8, 17, 14,\n",
       "        6, 14,  1,  7, 23,  6, 22, 22, 12,  6, 23, 21, 24, 13,  7, 12, 10,\n",
       "       24, 17, 11,  6,  7, 24,  3, 11, 23, 13, 10,  1, 22,  8, 14,  1, 15,\n",
       "       20, 18,  6, 17,  7,  8, 23,  5, 24,  3, 16, 11, 17,  1, 17, 15, 10,\n",
       "       21,  4, 21, 23,  8,  4,  5, 11,  3,  5,  5, 11,  6,  7, 15, 11,  8,\n",
       "        4,  5,  9,  2,  2, 19,  5, 11, 18, 16, 17, 20,  5, 22, 20,  8, 10,\n",
       "       19, 21,  1,  4, 20, 17, 19,  6, 12, 23, 15, 10,  2,  5, 23,  8, 18,\n",
       "       11,  5, 17,  3,  8, 10, 16, 10,  0,  2, 20, 20, 10, 11, 16,  9,  3,\n",
       "        6, 22, 12, 23,  1,  9,  9, 12,  8, 23,  5, 24, 22,  4, 22,  3, 15,\n",
       "       13,  7, 19, 23,  1,  5,  5, 16,  2,  3, 23, 23, 14, 19,  1,  8,  3,\n",
       "       13, 18,  3,  1,  9,  0, 13,  7, 23,  8,  0,  5, 24, 10,  6, 23, 23,\n",
       "       23, 21,  3,  2,  7, 13, 13,  0, 22,  0,  6, 21, 20, 12, 24, 13, 24,\n",
       "       16, 13, 23, 18,  7, 10, 20, 17, 19, 12,  2, 12])"
      ]
     },
     "execution_count": 26,
     "metadata": {},
     "output_type": "execute_result"
    }
   ],
   "source": [
    "y_test"
   ]
  },
  {
   "cell_type": "code",
   "execution_count": 27,
   "id": "9efafc19",
   "metadata": {},
   "outputs": [],
   "source": [
    "predicted = pd.DataFrame(normal.inverse_transform(y_pred))"
   ]
  },
  {
   "cell_type": "code",
   "execution_count": 28,
   "id": "0dd340a4",
   "metadata": {},
   "outputs": [],
   "source": [
    "from sklearn.metrics import confusion_matrix"
   ]
  },
  {
   "cell_type": "code",
   "execution_count": 29,
   "id": "cddf3ac2",
   "metadata": {},
   "outputs": [],
   "source": [
    "cm = confusion_matrix(y_test,y_pred)"
   ]
  },
  {
   "cell_type": "code",
   "execution_count": 30,
   "id": "05cd5da8",
   "metadata": {},
   "outputs": [
    {
     "data": {
      "text/plain": [
       "<AxesSubplot:>"
      ]
     },
     "execution_count": 30,
     "metadata": {},
     "output_type": "execute_result"
    },
    {
     "data": {
      "image/png": "[encoded data removed]",
      "text/plain": [
       "<Figure size 720x576 with 2 Axes>"
      ]
     },
     "metadata": {
      "needs_background": "light"
     },
     "output_type": "display_data"
    }
   ],
   "source": [
    "import seaborn as sn\n",
    "plt.figure(figsize=(10,8))\n",
    "sn.heatmap(cm,annot=True)"
   ]
  },
  {
   "cell_type": "code",
   "execution_count": 31,
   "id": "3c4701ac",
   "metadata": {},
   "outputs": [
    {
     "data": {
      "text/html": [
       "<div>\n",
       "<style scoped>\n",
       "    .dataframe tbody tr th:only-of-type {\n",
       "        vertical-align: middle;\n",
       "    }\n",
       "\n",
       "    .dataframe tbody tr th {\n",
       "        vertical-align: top;\n",
       "    }\n",
       "\n",
       "    .dataframe thead th {\n",
       "        text-align: right;\n",
       "    }\n",
       "</style>\n",
       "<table border=\"1\" class=\"dataframe\">\n",
       "  <thead>\n",
       "    <tr style=\"text-align: right;\">\n",
       "      <th></th>\n",
       "      <th>0</th>\n",
       "    </tr>\n",
       "  </thead>\n",
       "  <tbody>\n",
       "    <tr>\n",
       "      <th>0</th>\n",
       "      <td>Digital Marketing</td>\n",
       "    </tr>\n",
       "    <tr>\n",
       "      <th>1</th>\n",
       "      <td>Social Media Marketing</td>\n",
       "    </tr>\n",
       "    <tr>\n",
       "      <th>2</th>\n",
       "      <td>Data Management</td>\n",
       "    </tr>\n",
       "    <tr>\n",
       "      <th>3</th>\n",
       "      <td>Java Programming</td>\n",
       "    </tr>\n",
       "    <tr>\n",
       "      <th>4</th>\n",
       "      <td>Animation</td>\n",
       "    </tr>\n",
       "    <tr>\n",
       "      <th>...</th>\n",
       "      <td>...</td>\n",
       "    </tr>\n",
       "    <tr>\n",
       "      <th>245</th>\n",
       "      <td>People Management</td>\n",
       "    </tr>\n",
       "    <tr>\n",
       "      <th>246</th>\n",
       "      <td>Sales Leadership</td>\n",
       "    </tr>\n",
       "    <tr>\n",
       "      <th>247</th>\n",
       "      <td>Java Programming</td>\n",
       "    </tr>\n",
       "    <tr>\n",
       "      <th>248</th>\n",
       "      <td>Blockchain</td>\n",
       "    </tr>\n",
       "    <tr>\n",
       "      <th>249</th>\n",
       "      <td>Java Programming</td>\n",
       "    </tr>\n",
       "  </tbody>\n",
       "</table>\n",
       "<p>250 rows × 1 columns</p>\n",
       "</div>"
      ],
      "text/plain": [
       "                          0\n",
       "0         Digital Marketing\n",
       "1    Social Media Marketing\n",
       "2           Data Management\n",
       "3          Java Programming\n",
       "4                 Animation\n",
       "..                      ...\n",
       "245       People Management\n",
       "246        Sales Leadership\n",
       "247        Java Programming\n",
       "248              Blockchain\n",
       "249        Java Programming\n",
       "\n",
       "[250 rows x 1 columns]"
      ]
     },
     "execution_count": 31,
     "metadata": {},
     "output_type": "execute_result"
    }
   ],
   "source": [
    "predicted"
   ]
  },
  {
   "cell_type": "code",
   "execution_count": 32,
   "id": "51914a03",
   "metadata": {},
   "outputs": [],
   "source": [
    "y_t = pd.DataFrame(normal.inverse_transform(y_test))"
   ]
  },
  {
   "cell_type": "code",
   "execution_count": 34,
   "id": "4f91f3a2",
   "metadata": {},
   "outputs": [
    {
     "data": {
      "text/html": [
       "<div>\n",
       "<style scoped>\n",
       "    .dataframe tbody tr th:only-of-type {\n",
       "        vertical-align: middle;\n",
       "    }\n",
       "\n",
       "    .dataframe tbody tr th {\n",
       "        vertical-align: top;\n",
       "    }\n",
       "\n",
       "    .dataframe thead th {\n",
       "        text-align: right;\n",
       "    }\n",
       "</style>\n",
       "<table border=\"1\" class=\"dataframe\">\n",
       "  <thead>\n",
       "    <tr style=\"text-align: right;\">\n",
       "      <th></th>\n",
       "      <th>0</th>\n",
       "    </tr>\n",
       "  </thead>\n",
       "  <tbody>\n",
       "    <tr>\n",
       "      <th>0</th>\n",
       "      <td>Digital Marketing</td>\n",
       "    </tr>\n",
       "    <tr>\n",
       "      <th>1</th>\n",
       "      <td>Social Media Marketing</td>\n",
       "    </tr>\n",
       "    <tr>\n",
       "      <th>2</th>\n",
       "      <td>Data Management</td>\n",
       "    </tr>\n",
       "    <tr>\n",
       "      <th>3</th>\n",
       "      <td>Journalism</td>\n",
       "    </tr>\n",
       "    <tr>\n",
       "      <th>4</th>\n",
       "      <td>Analytical Reasoning</td>\n",
       "    </tr>\n",
       "    <tr>\n",
       "      <th>...</th>\n",
       "      <td>...</td>\n",
       "    </tr>\n",
       "    <tr>\n",
       "      <th>245</th>\n",
       "      <td>People Management</td>\n",
       "    </tr>\n",
       "    <tr>\n",
       "      <th>246</th>\n",
       "      <td>Sales Leadership</td>\n",
       "    </tr>\n",
       "    <tr>\n",
       "      <th>247</th>\n",
       "      <td>Java Programming</td>\n",
       "    </tr>\n",
       "    <tr>\n",
       "      <th>248</th>\n",
       "      <td>Audio Production</td>\n",
       "    </tr>\n",
       "    <tr>\n",
       "      <th>249</th>\n",
       "      <td>Java Programming</td>\n",
       "    </tr>\n",
       "  </tbody>\n",
       "</table>\n",
       "<p>250 rows × 1 columns</p>\n",
       "</div>"
      ],
      "text/plain": [
       "                          0\n",
       "0         Digital Marketing\n",
       "1    Social Media Marketing\n",
       "2           Data Management\n",
       "3                Journalism\n",
       "4      Analytical Reasoning\n",
       "..                      ...\n",
       "245       People Management\n",
       "246        Sales Leadership\n",
       "247        Java Programming\n",
       "248        Audio Production\n",
       "249        Java Programming\n",
       "\n",
       "[250 rows x 1 columns]"
      ]
     },
     "execution_count": 34,
     "metadata": {},
     "output_type": "execute_result"
    }
   ],
   "source": [
    "y_t"
   ]
  },
  {
   "cell_type": "code",
   "execution_count": null,
   "id": "41348204",
   "metadata": {},
   "outputs": [],
   "source": []
  }
 ],
 "metadata": {
  "kernelspec": {
   "display_name": "Python 3.9 (tensorflow)",
   "language": "python",
   "name": "tensorflow"
  },
  "language_info": {
   "codemirror_mode": {
    "name": "ipython",
    "version": 3
   },
   "file_extension": ".py",
   "mimetype": "text/x-python",
   "name": "python",
   "nbconvert_exporter": "python",
   "pygments_lexer": "ipython3",
   "version": "3.9.6"
  }
 },
 "nbformat": 4,
 "nbformat_minor": 5
}
