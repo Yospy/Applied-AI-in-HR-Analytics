{
 "cells": [
  {
   "cell_type": "code",
   "execution_count": 1,
   "id": "ad8ed75e",
   "metadata": {},
   "outputs": [],
   "source": [
    "import pandas as pd\n",
    "import tensorflow as tf\n",
    "from numpy import *\n",
    "import matplotlib.pyplot as plt\n",
    "%matplotlib inline"
   ]
  },
  {
   "cell_type": "code",
   "execution_count": 2,
   "id": "94ba8beb",
   "metadata": {},
   "outputs": [
    {
     "data": {
      "text/html": [
       "<div>\n",
       "<style scoped>\n",
       "    .dataframe tbody tr th:only-of-type {\n",
       "        vertical-align: middle;\n",
       "    }\n",
       "\n",
       "    .dataframe tbody tr th {\n",
       "        vertical-align: top;\n",
       "    }\n",
       "\n",
       "    .dataframe thead th {\n",
       "        text-align: right;\n",
       "    }\n",
       "</style>\n",
       "<table border=\"1\" class=\"dataframe\">\n",
       "  <thead>\n",
       "    <tr style=\"text-align: right;\">\n",
       "      <th></th>\n",
       "      <th>EmployeeID</th>\n",
       "      <th>EmpName</th>\n",
       "      <th>CourseID</th>\n",
       "      <th>CourseName</th>\n",
       "      <th>Rating</th>\n",
       "    </tr>\n",
       "  </thead>\n",
       "  <tbody>\n",
       "    <tr>\n",
       "      <th>0</th>\n",
       "      <td>1408</td>\n",
       "      <td>Ignace Ormonde</td>\n",
       "      <td>14</td>\n",
       "      <td>Video Production</td>\n",
       "      <td>3</td>\n",
       "    </tr>\n",
       "    <tr>\n",
       "      <th>1</th>\n",
       "      <td>1249</td>\n",
       "      <td>Gabriela Balcon</td>\n",
       "      <td>17</td>\n",
       "      <td>Translation</td>\n",
       "      <td>2</td>\n",
       "    </tr>\n",
       "    <tr>\n",
       "      <th>2</th>\n",
       "      <td>1158</td>\n",
       "      <td>Enrique Lewer</td>\n",
       "      <td>8</td>\n",
       "      <td>IT Architecture</td>\n",
       "      <td>3</td>\n",
       "    </tr>\n",
       "    <tr>\n",
       "      <th>3</th>\n",
       "      <td>1564</td>\n",
       "      <td>Wallie Byrd</td>\n",
       "      <td>18</td>\n",
       "      <td>Natural Language Processing</td>\n",
       "      <td>3</td>\n",
       "    </tr>\n",
       "    <tr>\n",
       "      <th>4</th>\n",
       "      <td>1334</td>\n",
       "      <td>Hannah Ganter</td>\n",
       "      <td>6</td>\n",
       "      <td>Java Programming</td>\n",
       "      <td>4</td>\n",
       "    </tr>\n",
       "  </tbody>\n",
       "</table>\n",
       "</div>"
      ],
      "text/plain": [
       "   EmployeeID          EmpName  CourseID                   CourseName  Rating\n",
       "0        1408   Ignace Ormonde        14             Video Production       3\n",
       "1        1249  Gabriela Balcon        17                  Translation       2\n",
       "2        1158    Enrique Lewer         8              IT Architecture       3\n",
       "3        1564      Wallie Byrd        18  Natural Language Processing       3\n",
       "4        1334    Hannah Ganter         6             Java Programming       4"
      ]
     },
     "execution_count": 2,
     "metadata": {},
     "output_type": "execute_result"
    }
   ],
   "source": [
    "df = pd.read_csv('employee_course_ratings.csv')\n",
    "df.head()"
   ]
  },
  {
   "cell_type": "code",
   "execution_count": 3,
   "id": "cb66767d",
   "metadata": {},
   "outputs": [],
   "source": [
    "em = pd.read_csv('employee_attrition.csv')\n",
    "cg = pd.read_csv('chat_groups.csv')"
   ]
  },
  {
   "cell_type": "code",
   "execution_count": 4,
   "id": "8b324d72",
   "metadata": {},
   "outputs": [
    {
     "data": {
      "text/html": [
       "<div>\n",
       "<style scoped>\n",
       "    .dataframe tbody tr th:only-of-type {\n",
       "        vertical-align: middle;\n",
       "    }\n",
       "\n",
       "    .dataframe tbody tr th {\n",
       "        vertical-align: top;\n",
       "    }\n",
       "\n",
       "    .dataframe thead th {\n",
       "        text-align: right;\n",
       "    }\n",
       "</style>\n",
       "<table border=\"1\" class=\"dataframe\">\n",
       "  <thead>\n",
       "    <tr style=\"text-align: right;\">\n",
       "      <th></th>\n",
       "      <th>EmployeeID</th>\n",
       "      <th>TotalMonthsOfExp</th>\n",
       "      <th>TotalOrgsWorked</th>\n",
       "      <th>MonthsInOrg</th>\n",
       "      <th>LastPayIncrementBand</th>\n",
       "      <th>AverageFeedback</th>\n",
       "      <th>LastPromotionYears</th>\n",
       "      <th>Attrition</th>\n",
       "    </tr>\n",
       "  </thead>\n",
       "  <tbody>\n",
       "    <tr>\n",
       "      <th>0</th>\n",
       "      <td>1</td>\n",
       "      <td>110</td>\n",
       "      <td>4</td>\n",
       "      <td>9</td>\n",
       "      <td>5</td>\n",
       "      <td>4</td>\n",
       "      <td>4</td>\n",
       "      <td>1</td>\n",
       "    </tr>\n",
       "    <tr>\n",
       "      <th>1</th>\n",
       "      <td>2</td>\n",
       "      <td>103</td>\n",
       "      <td>3</td>\n",
       "      <td>51</td>\n",
       "      <td>1</td>\n",
       "      <td>4</td>\n",
       "      <td>2</td>\n",
       "      <td>0</td>\n",
       "    </tr>\n",
       "    <tr>\n",
       "      <th>2</th>\n",
       "      <td>3</td>\n",
       "      <td>41</td>\n",
       "      <td>4</td>\n",
       "      <td>16</td>\n",
       "      <td>5</td>\n",
       "      <td>4</td>\n",
       "      <td>4</td>\n",
       "      <td>1</td>\n",
       "    </tr>\n",
       "    <tr>\n",
       "      <th>3</th>\n",
       "      <td>4</td>\n",
       "      <td>32</td>\n",
       "      <td>4</td>\n",
       "      <td>17</td>\n",
       "      <td>5</td>\n",
       "      <td>2</td>\n",
       "      <td>3</td>\n",
       "      <td>0</td>\n",
       "    </tr>\n",
       "    <tr>\n",
       "      <th>4</th>\n",
       "      <td>5</td>\n",
       "      <td>80</td>\n",
       "      <td>3</td>\n",
       "      <td>16</td>\n",
       "      <td>3</td>\n",
       "      <td>4</td>\n",
       "      <td>2</td>\n",
       "      <td>0</td>\n",
       "    </tr>\n",
       "  </tbody>\n",
       "</table>\n",
       "</div>"
      ],
      "text/plain": [
       "   EmployeeID  TotalMonthsOfExp  TotalOrgsWorked  MonthsInOrg  \\\n",
       "0           1               110                4            9   \n",
       "1           2               103                3           51   \n",
       "2           3                41                4           16   \n",
       "3           4                32                4           17   \n",
       "4           5                80                3           16   \n",
       "\n",
       "   LastPayIncrementBand  AverageFeedback  LastPromotionYears  Attrition  \n",
       "0                     5                4                   4          1  \n",
       "1                     1                4                   2          0  \n",
       "2                     5                4                   4          1  \n",
       "3                     5                2                   3          0  \n",
       "4                     3                4                   2          0  "
      ]
     },
     "execution_count": 4,
     "metadata": {},
     "output_type": "execute_result"
    }
   ],
   "source": [
    "em.head()"
   ]
  },
  {
   "cell_type": "code",
   "execution_count": 5,
   "id": "17016518",
   "metadata": {},
   "outputs": [
    {
     "data": {
      "text/html": [
       "<div>\n",
       "<style scoped>\n",
       "    .dataframe tbody tr th:only-of-type {\n",
       "        vertical-align: middle;\n",
       "    }\n",
       "\n",
       "    .dataframe tbody tr th {\n",
       "        vertical-align: top;\n",
       "    }\n",
       "\n",
       "    .dataframe thead th {\n",
       "        text-align: right;\n",
       "    }\n",
       "</style>\n",
       "<table border=\"1\" class=\"dataframe\">\n",
       "  <thead>\n",
       "    <tr style=\"text-align: right;\">\n",
       "      <th></th>\n",
       "      <th>EmployeeID</th>\n",
       "      <th>TotalMonthsOfExp</th>\n",
       "      <th>TotalOrgsWorked</th>\n",
       "      <th>MonthsInOrg</th>\n",
       "      <th>LastPayIncrementBand</th>\n",
       "      <th>AverageFeedback</th>\n",
       "      <th>LastPromotionYears</th>\n",
       "      <th>Attrition</th>\n",
       "    </tr>\n",
       "  </thead>\n",
       "  <tbody>\n",
       "    <tr>\n",
       "      <th>count</th>\n",
       "      <td>1000.000000</td>\n",
       "      <td>1000.000000</td>\n",
       "      <td>1000.000000</td>\n",
       "      <td>1000.000000</td>\n",
       "      <td>1000.000000</td>\n",
       "      <td>1000.000000</td>\n",
       "      <td>1000.00000</td>\n",
       "      <td>1000.000000</td>\n",
       "    </tr>\n",
       "    <tr>\n",
       "      <th>mean</th>\n",
       "      <td>500.500000</td>\n",
       "      <td>61.002000</td>\n",
       "      <td>3.056000</td>\n",
       "      <td>31.000000</td>\n",
       "      <td>3.063000</td>\n",
       "      <td>2.539000</td>\n",
       "      <td>2.45400</td>\n",
       "      <td>0.230000</td>\n",
       "    </tr>\n",
       "    <tr>\n",
       "      <th>std</th>\n",
       "      <td>288.819436</td>\n",
       "      <td>34.818132</td>\n",
       "      <td>1.398148</td>\n",
       "      <td>26.783341</td>\n",
       "      <td>1.413162</td>\n",
       "      <td>1.143585</td>\n",
       "      <td>1.10413</td>\n",
       "      <td>0.421043</td>\n",
       "    </tr>\n",
       "    <tr>\n",
       "      <th>min</th>\n",
       "      <td>1.000000</td>\n",
       "      <td>1.000000</td>\n",
       "      <td>1.000000</td>\n",
       "      <td>0.000000</td>\n",
       "      <td>1.000000</td>\n",
       "      <td>1.000000</td>\n",
       "      <td>1.00000</td>\n",
       "      <td>0.000000</td>\n",
       "    </tr>\n",
       "    <tr>\n",
       "      <th>25%</th>\n",
       "      <td>250.750000</td>\n",
       "      <td>31.000000</td>\n",
       "      <td>2.000000</td>\n",
       "      <td>9.000000</td>\n",
       "      <td>2.000000</td>\n",
       "      <td>1.000000</td>\n",
       "      <td>1.00000</td>\n",
       "      <td>0.000000</td>\n",
       "    </tr>\n",
       "    <tr>\n",
       "      <th>50%</th>\n",
       "      <td>500.500000</td>\n",
       "      <td>61.000000</td>\n",
       "      <td>3.000000</td>\n",
       "      <td>23.000000</td>\n",
       "      <td>3.000000</td>\n",
       "      <td>3.000000</td>\n",
       "      <td>2.00000</td>\n",
       "      <td>0.000000</td>\n",
       "    </tr>\n",
       "    <tr>\n",
       "      <th>75%</th>\n",
       "      <td>750.250000</td>\n",
       "      <td>91.250000</td>\n",
       "      <td>4.000000</td>\n",
       "      <td>48.000000</td>\n",
       "      <td>4.000000</td>\n",
       "      <td>4.000000</td>\n",
       "      <td>3.00000</td>\n",
       "      <td>0.000000</td>\n",
       "    </tr>\n",
       "    <tr>\n",
       "      <th>max</th>\n",
       "      <td>1000.000000</td>\n",
       "      <td>120.000000</td>\n",
       "      <td>5.000000</td>\n",
       "      <td>116.000000</td>\n",
       "      <td>5.000000</td>\n",
       "      <td>4.000000</td>\n",
       "      <td>4.00000</td>\n",
       "      <td>1.000000</td>\n",
       "    </tr>\n",
       "  </tbody>\n",
       "</table>\n",
       "</div>"
      ],
      "text/plain": [
       "        EmployeeID  TotalMonthsOfExp  TotalOrgsWorked  MonthsInOrg  \\\n",
       "count  1000.000000       1000.000000      1000.000000  1000.000000   \n",
       "mean    500.500000         61.002000         3.056000    31.000000   \n",
       "std     288.819436         34.818132         1.398148    26.783341   \n",
       "min       1.000000          1.000000         1.000000     0.000000   \n",
       "25%     250.750000         31.000000         2.000000     9.000000   \n",
       "50%     500.500000         61.000000         3.000000    23.000000   \n",
       "75%     750.250000         91.250000         4.000000    48.000000   \n",
       "max    1000.000000        120.000000         5.000000   116.000000   \n",
       "\n",
       "       LastPayIncrementBand  AverageFeedback  LastPromotionYears    Attrition  \n",
       "count           1000.000000      1000.000000          1000.00000  1000.000000  \n",
       "mean               3.063000         2.539000             2.45400     0.230000  \n",
       "std                1.413162         1.143585             1.10413     0.421043  \n",
       "min                1.000000         1.000000             1.00000     0.000000  \n",
       "25%                2.000000         1.000000             1.00000     0.000000  \n",
       "50%                3.000000         3.000000             2.00000     0.000000  \n",
       "75%                4.000000         4.000000             3.00000     0.000000  \n",
       "max                5.000000         4.000000             4.00000     1.000000  "
      ]
     },
     "execution_count": 5,
     "metadata": {},
     "output_type": "execute_result"
    }
   ],
   "source": [
    "em.describe()"
   ]
  },
  {
   "cell_type": "code",
   "execution_count": 6,
   "id": "d4de937e",
   "metadata": {},
   "outputs": [
    {
     "name": "stdout",
     "output_type": "stream",
     "text": [
      "<class 'pandas.core.frame.DataFrame'>\n",
      "RangeIndex: 1000 entries, 0 to 999\n",
      "Data columns (total 8 columns):\n",
      " #   Column                Non-Null Count  Dtype\n",
      "---  ------                --------------  -----\n",
      " 0   EmployeeID            1000 non-null   int64\n",
      " 1   TotalMonthsOfExp      1000 non-null   int64\n",
      " 2   TotalOrgsWorked       1000 non-null   int64\n",
      " 3   MonthsInOrg           1000 non-null   int64\n",
      " 4   LastPayIncrementBand  1000 non-null   int64\n",
      " 5   AverageFeedback       1000 non-null   int64\n",
      " 6   LastPromotionYears    1000 non-null   int64\n",
      " 7   Attrition             1000 non-null   int64\n",
      "dtypes: int64(8)\n",
      "memory usage: 62.6 KB\n"
     ]
    }
   ],
   "source": [
    "em.info()"
   ]
  },
  {
   "cell_type": "code",
   "execution_count": 7,
   "id": "75721c9e",
   "metadata": {},
   "outputs": [
    {
     "data": {
      "text/plain": [
       "EmployeeID              0\n",
       "TotalMonthsOfExp        0\n",
       "TotalOrgsWorked         0\n",
       "MonthsInOrg             0\n",
       "LastPayIncrementBand    0\n",
       "AverageFeedback         0\n",
       "LastPromotionYears      0\n",
       "Attrition               0\n",
       "dtype: int64"
      ]
     },
     "execution_count": 7,
     "metadata": {},
     "output_type": "execute_result"
    }
   ],
   "source": [
    "em.isnull().sum()"
   ]
  },
  {
   "cell_type": "code",
   "execution_count": 8,
   "id": "b824a6cc",
   "metadata": {},
   "outputs": [
    {
     "data": {
      "text/html": [
       "<div>\n",
       "<style scoped>\n",
       "    .dataframe tbody tr th:only-of-type {\n",
       "        vertical-align: middle;\n",
       "    }\n",
       "\n",
       "    .dataframe tbody tr th {\n",
       "        vertical-align: top;\n",
       "    }\n",
       "\n",
       "    .dataframe thead th {\n",
       "        text-align: right;\n",
       "    }\n",
       "</style>\n",
       "<table border=\"1\" class=\"dataframe\">\n",
       "  <thead>\n",
       "    <tr style=\"text-align: right;\">\n",
       "      <th></th>\n",
       "      <th>EmployeeID</th>\n",
       "      <th>TotalMonthsOfExp</th>\n",
       "      <th>TotalOrgsWorked</th>\n",
       "      <th>MonthsInOrg</th>\n",
       "      <th>LastPayIncrementBand</th>\n",
       "      <th>AverageFeedback</th>\n",
       "      <th>LastPromotionYears</th>\n",
       "      <th>Attrition</th>\n",
       "    </tr>\n",
       "  </thead>\n",
       "  <tbody>\n",
       "    <tr>\n",
       "      <th>EmployeeID</th>\n",
       "      <td>1.000000</td>\n",
       "      <td>-0.057483</td>\n",
       "      <td>0.036784</td>\n",
       "      <td>-0.016303</td>\n",
       "      <td>-0.144755</td>\n",
       "      <td>0.055054</td>\n",
       "      <td>-0.035684</td>\n",
       "      <td>-0.036630</td>\n",
       "    </tr>\n",
       "    <tr>\n",
       "      <th>TotalMonthsOfExp</th>\n",
       "      <td>-0.057483</td>\n",
       "      <td>1.000000</td>\n",
       "      <td>0.053769</td>\n",
       "      <td>0.667504</td>\n",
       "      <td>-0.012453</td>\n",
       "      <td>-0.038315</td>\n",
       "      <td>0.007059</td>\n",
       "      <td>0.019702</td>\n",
       "    </tr>\n",
       "    <tr>\n",
       "      <th>TotalOrgsWorked</th>\n",
       "      <td>0.036784</td>\n",
       "      <td>0.053769</td>\n",
       "      <td>1.000000</td>\n",
       "      <td>0.027159</td>\n",
       "      <td>-0.003307</td>\n",
       "      <td>0.001763</td>\n",
       "      <td>-0.041774</td>\n",
       "      <td>0.008706</td>\n",
       "    </tr>\n",
       "    <tr>\n",
       "      <th>MonthsInOrg</th>\n",
       "      <td>-0.016303</td>\n",
       "      <td>0.667504</td>\n",
       "      <td>0.027159</td>\n",
       "      <td>1.000000</td>\n",
       "      <td>-0.017984</td>\n",
       "      <td>-0.013334</td>\n",
       "      <td>0.009309</td>\n",
       "      <td>0.012605</td>\n",
       "    </tr>\n",
       "    <tr>\n",
       "      <th>LastPayIncrementBand</th>\n",
       "      <td>-0.144755</td>\n",
       "      <td>-0.012453</td>\n",
       "      <td>-0.003307</td>\n",
       "      <td>-0.017984</td>\n",
       "      <td>1.000000</td>\n",
       "      <td>-0.017317</td>\n",
       "      <td>0.094561</td>\n",
       "      <td>0.108528</td>\n",
       "    </tr>\n",
       "    <tr>\n",
       "      <th>AverageFeedback</th>\n",
       "      <td>0.055054</td>\n",
       "      <td>-0.038315</td>\n",
       "      <td>0.001763</td>\n",
       "      <td>-0.013334</td>\n",
       "      <td>-0.017317</td>\n",
       "      <td>1.000000</td>\n",
       "      <td>-0.002145</td>\n",
       "      <td>-0.008253</td>\n",
       "    </tr>\n",
       "    <tr>\n",
       "      <th>LastPromotionYears</th>\n",
       "      <td>-0.035684</td>\n",
       "      <td>0.007059</td>\n",
       "      <td>-0.041774</td>\n",
       "      <td>0.009309</td>\n",
       "      <td>0.094561</td>\n",
       "      <td>-0.002145</td>\n",
       "      <td>1.000000</td>\n",
       "      <td>0.765641</td>\n",
       "    </tr>\n",
       "    <tr>\n",
       "      <th>Attrition</th>\n",
       "      <td>-0.036630</td>\n",
       "      <td>0.019702</td>\n",
       "      <td>0.008706</td>\n",
       "      <td>0.012605</td>\n",
       "      <td>0.108528</td>\n",
       "      <td>-0.008253</td>\n",
       "      <td>0.765641</td>\n",
       "      <td>1.000000</td>\n",
       "    </tr>\n",
       "  </tbody>\n",
       "</table>\n",
       "</div>"
      ],
      "text/plain": [
       "                      EmployeeID  TotalMonthsOfExp  TotalOrgsWorked  \\\n",
       "EmployeeID              1.000000         -0.057483         0.036784   \n",
       "TotalMonthsOfExp       -0.057483          1.000000         0.053769   \n",
       "TotalOrgsWorked         0.036784          0.053769         1.000000   \n",
       "MonthsInOrg            -0.016303          0.667504         0.027159   \n",
       "LastPayIncrementBand   -0.144755         -0.012453        -0.003307   \n",
       "AverageFeedback         0.055054         -0.038315         0.001763   \n",
       "LastPromotionYears     -0.035684          0.007059        -0.041774   \n",
       "Attrition              -0.036630          0.019702         0.008706   \n",
       "\n",
       "                      MonthsInOrg  LastPayIncrementBand  AverageFeedback  \\\n",
       "EmployeeID              -0.016303             -0.144755         0.055054   \n",
       "TotalMonthsOfExp         0.667504             -0.012453        -0.038315   \n",
       "TotalOrgsWorked          0.027159             -0.003307         0.001763   \n",
       "MonthsInOrg              1.000000             -0.017984        -0.013334   \n",
       "LastPayIncrementBand    -0.017984              1.000000        -0.017317   \n",
       "AverageFeedback         -0.013334             -0.017317         1.000000   \n",
       "LastPromotionYears       0.009309              0.094561        -0.002145   \n",
       "Attrition                0.012605              0.108528        -0.008253   \n",
       "\n",
       "                      LastPromotionYears  Attrition  \n",
       "EmployeeID                     -0.035684  -0.036630  \n",
       "TotalMonthsOfExp                0.007059   0.019702  \n",
       "TotalOrgsWorked                -0.041774   0.008706  \n",
       "MonthsInOrg                     0.009309   0.012605  \n",
       "LastPayIncrementBand            0.094561   0.108528  \n",
       "AverageFeedback                -0.002145  -0.008253  \n",
       "LastPromotionYears              1.000000   0.765641  \n",
       "Attrition                       0.765641   1.000000  "
      ]
     },
     "execution_count": 8,
     "metadata": {},
     "output_type": "execute_result"
    }
   ],
   "source": [
    "em.corr()"
   ]
  },
  {
   "cell_type": "markdown",
   "id": "4bcdb4e4",
   "metadata": {},
   "source": [
    "Attrition doesnot largely depend upon AverageFeedback"
   ]
  },
  {
   "cell_type": "code",
   "execution_count": 9,
   "id": "64d5aba1",
   "metadata": {},
   "outputs": [
    {
     "name": "stderr",
     "output_type": "stream",
     "text": [
      "<ipython-input-9-f49d462431d2>:1: FutureWarning: In a future version of pandas all arguments of DataFrame.drop except for the argument 'labels' will be keyword-only\n",
      "  em.drop(['AverageFeedback'],1,inplace=True)\n"
     ]
    }
   ],
   "source": [
    "em.drop(['AverageFeedback'],1,inplace=True)"
   ]
  },
  {
   "cell_type": "code",
   "execution_count": 10,
   "id": "02e86f0c",
   "metadata": {},
   "outputs": [
    {
     "data": {
      "text/html": [
       "<div>\n",
       "<style scoped>\n",
       "    .dataframe tbody tr th:only-of-type {\n",
       "        vertical-align: middle;\n",
       "    }\n",
       "\n",
       "    .dataframe tbody tr th {\n",
       "        vertical-align: top;\n",
       "    }\n",
       "\n",
       "    .dataframe thead th {\n",
       "        text-align: right;\n",
       "    }\n",
       "</style>\n",
       "<table border=\"1\" class=\"dataframe\">\n",
       "  <thead>\n",
       "    <tr style=\"text-align: right;\">\n",
       "      <th></th>\n",
       "      <th>EmployeeID</th>\n",
       "      <th>TotalMonthsOfExp</th>\n",
       "      <th>TotalOrgsWorked</th>\n",
       "      <th>MonthsInOrg</th>\n",
       "      <th>LastPayIncrementBand</th>\n",
       "      <th>LastPromotionYears</th>\n",
       "      <th>Attrition</th>\n",
       "    </tr>\n",
       "  </thead>\n",
       "  <tbody>\n",
       "    <tr>\n",
       "      <th>0</th>\n",
       "      <td>1</td>\n",
       "      <td>110</td>\n",
       "      <td>4</td>\n",
       "      <td>9</td>\n",
       "      <td>5</td>\n",
       "      <td>4</td>\n",
       "      <td>1</td>\n",
       "    </tr>\n",
       "    <tr>\n",
       "      <th>1</th>\n",
       "      <td>2</td>\n",
       "      <td>103</td>\n",
       "      <td>3</td>\n",
       "      <td>51</td>\n",
       "      <td>1</td>\n",
       "      <td>2</td>\n",
       "      <td>0</td>\n",
       "    </tr>\n",
       "    <tr>\n",
       "      <th>2</th>\n",
       "      <td>3</td>\n",
       "      <td>41</td>\n",
       "      <td>4</td>\n",
       "      <td>16</td>\n",
       "      <td>5</td>\n",
       "      <td>4</td>\n",
       "      <td>1</td>\n",
       "    </tr>\n",
       "    <tr>\n",
       "      <th>3</th>\n",
       "      <td>4</td>\n",
       "      <td>32</td>\n",
       "      <td>4</td>\n",
       "      <td>17</td>\n",
       "      <td>5</td>\n",
       "      <td>3</td>\n",
       "      <td>0</td>\n",
       "    </tr>\n",
       "    <tr>\n",
       "      <th>4</th>\n",
       "      <td>5</td>\n",
       "      <td>80</td>\n",
       "      <td>3</td>\n",
       "      <td>16</td>\n",
       "      <td>3</td>\n",
       "      <td>2</td>\n",
       "      <td>0</td>\n",
       "    </tr>\n",
       "  </tbody>\n",
       "</table>\n",
       "</div>"
      ],
      "text/plain": [
       "   EmployeeID  TotalMonthsOfExp  TotalOrgsWorked  MonthsInOrg  \\\n",
       "0           1               110                4            9   \n",
       "1           2               103                3           51   \n",
       "2           3                41                4           16   \n",
       "3           4                32                4           17   \n",
       "4           5                80                3           16   \n",
       "\n",
       "   LastPayIncrementBand  LastPromotionYears  Attrition  \n",
       "0                     5                   4          1  \n",
       "1                     1                   2          0  \n",
       "2                     5                   4          1  \n",
       "3                     5                   3          0  \n",
       "4                     3                   2          0  "
      ]
     },
     "execution_count": 10,
     "metadata": {},
     "output_type": "execute_result"
    }
   ],
   "source": [
    "em.head()"
   ]
  },
  {
   "cell_type": "code",
   "execution_count": 11,
   "id": "dc3e1b1e",
   "metadata": {},
   "outputs": [
    {
     "name": "stderr",
     "output_type": "stream",
     "text": [
      "<ipython-input-11-872459db8bd5>:2: FutureWarning: In a future version of pandas all arguments of DataFrame.drop except for the argument 'labels' will be keyword-only\n",
      "  X = em.drop(['Attrition'],1)\n"
     ]
    }
   ],
   "source": [
    "from sklearn.model_selection import train_test_split\n",
    "X = em.drop(['Attrition'],1)\n",
    "y = em['Attrition']"
   ]
  },
  {
   "cell_type": "code",
   "execution_count": 12,
   "id": "6a47ad23",
   "metadata": {},
   "outputs": [],
   "source": [
    "X_train, X_test, y_train, y_test = train_test_split(X,y,test_size=0.3,random_state=42)"
   ]
  },
  {
   "cell_type": "code",
   "execution_count": null,
   "id": "5f3e609a",
   "metadata": {},
   "outputs": [],
   "source": []
  },
  {
   "cell_type": "code",
   "execution_count": 13,
   "id": "5d35651f",
   "metadata": {},
   "outputs": [
    {
     "data": {
      "text/plain": [
       "(700, 300)"
      ]
     },
     "execution_count": 13,
     "metadata": {},
     "output_type": "execute_result"
    }
   ],
   "source": [
    "len(X_train), len(X_test)"
   ]
  },
  {
   "cell_type": "code",
   "execution_count": null,
   "id": "aebc0f98",
   "metadata": {},
   "outputs": [],
   "source": []
  },
  {
   "cell_type": "code",
   "execution_count": 14,
   "id": "21f542b8",
   "metadata": {},
   "outputs": [
    {
     "data": {
      "text/plain": [
       "array([1, 0])"
      ]
     },
     "execution_count": 14,
     "metadata": {},
     "output_type": "execute_result"
    }
   ],
   "source": [
    "em['Attrition'].unique()"
   ]
  },
  {
   "cell_type": "code",
   "execution_count": 25,
   "id": "af2b9cfb",
   "metadata": {},
   "outputs": [],
   "source": [
    "from sklearn.linear_model import LogisticRegression"
   ]
  },
  {
   "cell_type": "code",
   "execution_count": 26,
   "id": "e8ec93ed",
   "metadata": {},
   "outputs": [],
   "source": [
    "model = LogisticRegression()"
   ]
  },
  {
   "cell_type": "code",
   "execution_count": 27,
   "id": "b676b75e",
   "metadata": {},
   "outputs": [
    {
     "name": "stderr",
     "output_type": "stream",
     "text": [
      "/opt/homebrew/Caskroom/miniforge/base/envs/tensorflow/lib/python3.9/site-packages/sklearn/linear_model/_logistic.py:763: ConvergenceWarning: lbfgs failed to converge (status=1):\n",
      "STOP: TOTAL NO. of ITERATIONS REACHED LIMIT.\n",
      "\n",
      "Increase the number of iterations (max_iter) or scale the data as shown in:\n",
      "    https://scikit-learn.org/stable/modules/preprocessing.html\n",
      "Please also refer to the documentation for alternative solver options:\n",
      "    https://scikit-learn.org/stable/modules/linear_model.html#logistic-regression\n",
      "  n_iter_i = _check_optimize_result(\n"
     ]
    },
    {
     "data": {
      "text/plain": [
       "LogisticRegression()"
      ]
     },
     "execution_count": 27,
     "metadata": {},
     "output_type": "execute_result"
    }
   ],
   "source": [
    "model.fit(X_train,y_train)"
   ]
  },
  {
   "cell_type": "code",
   "execution_count": 28,
   "id": "98aef322",
   "metadata": {},
   "outputs": [
    {
     "data": {
      "text/plain": [
       "1.0"
      ]
     },
     "execution_count": 28,
     "metadata": {},
     "output_type": "execute_result"
    }
   ],
   "source": [
    "model.score(X_test,y_test)"
   ]
  },
  {
   "cell_type": "code",
   "execution_count": 33,
   "id": "29e260aa",
   "metadata": {},
   "outputs": [
    {
     "data": {
      "text/plain": [
       "array([0, 0, 0, 1, 1, 1, 0, 1, 0, 0, 0, 0, 0, 0, 0, 0, 1, 0, 1, 0, 0, 0,\n",
       "       0, 1, 0, 0, 0, 0, 0, 0, 0, 0, 0, 0, 0, 1, 1, 0, 0, 0, 0, 0, 1, 0,\n",
       "       0, 1, 0, 0, 0, 1, 1, 0, 0, 0, 0, 0, 1, 0, 1, 0, 0, 0, 0, 0, 0, 1,\n",
       "       0, 1, 1, 0, 1, 0, 0, 0, 0, 1, 0, 0, 0, 0, 0, 0, 0, 0, 0, 0, 1, 1,\n",
       "       0, 0, 0, 1, 0, 0, 0, 1, 0, 0, 0, 0, 0, 0, 0, 0, 0, 0, 0, 0, 0, 0,\n",
       "       1, 0, 0, 0, 0, 0, 0, 1, 1, 0, 0, 0, 0, 0, 1, 0, 0, 0, 0, 0, 0, 0,\n",
       "       0, 0, 0, 0, 0, 0, 0, 0, 0, 1, 0, 1, 0, 0, 1, 1, 0, 0, 1, 0, 0, 0,\n",
       "       1, 0, 0, 0, 0, 0, 1, 0, 0, 0, 1, 1, 0, 0, 0, 0, 1, 1, 1, 1, 0, 0,\n",
       "       0, 0, 0, 0, 0, 0, 0, 0, 1, 0, 0, 0, 1, 0, 1, 0, 0, 1, 1, 0, 1, 1,\n",
       "       0, 0, 0, 0, 0, 1, 1, 0, 0, 0, 0, 0, 0, 0, 0, 0, 0, 0, 0, 0, 0, 0,\n",
       "       0, 0, 1, 1, 0, 1, 1, 0, 0, 1, 0, 0, 0, 1, 1, 1, 0, 0, 0, 0, 0, 0,\n",
       "       1, 0, 0, 1, 1, 0, 0, 1, 0, 0, 0, 1, 1, 0, 0, 0, 0, 1, 0, 0, 0, 0,\n",
       "       1, 0, 0, 1, 0, 1, 0, 0, 0, 0, 0, 1, 0, 0, 0, 0, 0, 1, 0, 0, 0, 0,\n",
       "       0, 0, 0, 0, 0, 0, 0, 0, 1, 0, 0, 0, 0, 0])"
      ]
     },
     "execution_count": 33,
     "metadata": {},
     "output_type": "execute_result"
    }
   ],
   "source": [
    "model.predict(X_test)"
   ]
  },
  {
   "cell_type": "code",
   "execution_count": null,
   "id": "53669972",
   "metadata": {},
   "outputs": [],
   "source": []
  },
  {
   "cell_type": "code",
   "execution_count": null,
   "id": "b20c4e51",
   "metadata": {},
   "outputs": [],
   "source": []
  },
  {
   "cell_type": "code",
   "execution_count": null,
   "id": "644e690e",
   "metadata": {},
   "outputs": [],
   "source": []
  },
  {
   "cell_type": "code",
   "execution_count": null,
   "id": "2c189f04",
   "metadata": {},
   "outputs": [],
   "source": []
  }
 ],
 "metadata": {
  "kernelspec": {
   "display_name": "Python 3.9 (tensorflow)",
   "language": "python",
   "name": "tensorflow"
  },
  "language_info": {
   "codemirror_mode": {
    "name": "ipython",
    "version": 3
   },
   "file_extension": ".py",
   "mimetype": "text/x-python",
   "name": "python",
   "nbconvert_exporter": "python",
   "pygments_lexer": "ipython3",
   "version": "3.9.6"
  }
 },
 "nbformat": 4,
 "nbformat_minor": 5
}
